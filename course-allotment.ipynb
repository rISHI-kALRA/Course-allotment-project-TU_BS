{
 "cells": [
  {
   "cell_type": "code",
   "execution_count": 1,
   "id": "bd887e49",
   "metadata": {},
   "outputs": [],
   "source": [
    "from ortools.sat.python import cp_model\n",
    "import numpy as np\n",
    "import random\n",
    "\n",
    "model = cp_model.CpModel()"
   ]
  },
  {
   "cell_type": "code",
   "execution_count": 2,
   "id": "ec45e181",
   "metadata": {},
   "outputs": [],
   "source": [
    "def compute_values(male_count,female_count):\n",
    "    total_count = male_count+female_count\n",
    "    y = (6-(total_count%6))%6 # no of 5 membered groups\n",
    "    x = (male_count+female_count-5*y)/6 # no of 6 membered groups\n",
    "    x1 = y # groups with 1 female and 4 males\n",
    "    x2 = (5*female_count - male_count - y)/6 # 2 females 4 males\n",
    "    x3 = x-x2 # 1 female 5 males\n",
    "    return x1, x2, x3\n",
    "    "
   ]
  },
  {
   "cell_type": "code",
   "execution_count": 3,
   "id": "1bdb4ef1",
   "metadata": {},
   "outputs": [],
   "source": [
    "num_projects = 6\n",
    "student_count = 1325\n",
    "female_count = 261\n",
    "male_count = 1064\n",
    "\n",
    "class Student:\n",
    "    def __init__(self,rollnum,name,department,cpi,gender,preferences:list,groups):\n",
    "        self.rollnum = rollnum\n",
    "        self.name = name\n",
    "        self.department = department\n",
    "        self.cpi = cpi\n",
    "        self.gender = gender # 0 if male, 1 if female (might add more later ;)\n",
    "        self.preferences = [preferences[g.type] for g in groups]\n",
    "        self.alpha = [model.new_bool_var(f\"alpha_{self.rollnum}_{i}\") for i in range(len(groups))]\n",
    "        self.beta = [model.new_bool_var(f\"beta_{self.rollnum}_{i}\") for i in range(num_projects)]\n",
    "        \n",
    "        \n",
    "class Project:\n",
    "    def __init__(self,id,type,male_count,female_count):\n",
    "        self.id = id # serial number\n",
    "        self.type = type\n",
    "        self.male_count = male_count\n",
    "        self.female_count = female_count\n",
    "        # self.average_cpi =   \n",
    "    \n",
    "    def __str__(self):\n",
    "        return f\"project type: {self.type}\\ngroup id: {self.id}\"     "
   ]
  },
  {
   "cell_type": "code",
   "execution_count": 4,
   "id": "952d103a",
   "metadata": {},
   "outputs": [],
   "source": [
    "def generate_nodes(x1, x2, x3):\n",
    "    groups = []\n",
    "    id=0\n",
    "    for i in range(x1):\n",
    "        groups.append(Project(id,i%num_projects,4,1))\n",
    "        id+=1\n",
    "    for i in range(x2):\n",
    "        groups.append(Project(id,i%num_projects,4,2))\n",
    "        id+=1\n",
    "    for i in range(x3):\n",
    "        groups.append(Project(id,i%num_projects,5,1))\n",
    "        id+=1\n",
    "    return groups\n",
    "        "
   ]
  },
  {
   "cell_type": "code",
   "execution_count": 5,
   "id": "e9e6ac14",
   "metadata": {},
   "outputs": [],
   "source": [
    "# take input of students\n",
    "\n",
    "# toy dataset for now\n",
    "cpi = [random.randint(700, 1000) for _ in range(student_count)]\n",
    "rollnum = range(0,student_count)\n",
    "gender = [1]*female_count + [0]*male_count\n",
    "random.shuffle(gender)\n",
    "department = [0]*student_count\n",
    "preferences = [[random.randint(0, 100) for _ in range(num_projects)] for _ in range(student_count)]\n",
    "x1,x2,x3 = compute_values(male_count,female_count)\n",
    "groups = generate_nodes(int(x1),int(x2),int(x3))\n",
    "students = []\n",
    "\n",
    "for i in range(student_count):\n",
    "    students.append(Student(rollnum[i], \"John Doe\", department[i], cpi[i], gender[i], preferences[i], groups))"
   ]
  },
  {
   "cell_type": "code",
   "execution_count": 6,
   "id": "cffd58fb",
   "metadata": {},
   "outputs": [
    {
     "name": "stdout",
     "output_type": "stream",
     "text": [
      "alpha_0_0\n"
     ]
    }
   ],
   "source": [
    "median_cpi = int(np.median(cpi))\n",
    "\n",
    "for student in students:\n",
    "    model.add(sum(alpha for alpha in student.alpha) == 1)\n",
    "    model.add(sum(beta for beta in student.beta) == 1)\n",
    "    for i in range(num_projects):\n",
    "        model.add(sum(student.alpha[id] for id in range(i, len(groups), num_projects)) == student.beta[i])\n",
    "    \n",
    "abs_cpi = []\n",
    "    \n",
    "for g in groups:\n",
    "    model.add(sum(student.alpha[g.id] if student.gender == 0 else 0*student.alpha[g.id] for student in students) == g.male_count)\n",
    "    model.add(sum(student.alpha[g.id] if student.gender == 1 else 0*student.alpha[g.id] for student in students) == g.female_count)\n",
    "    abs_cpi.append(model.new_int_var(0,1000,f\"abs_cpi_{i}\"))\n",
    "    model.add(sum(student.alpha[g.id]*(student.cpi - median_cpi) for student in students) <= (g.male_count+g.female_count)*abs_cpi[-1])\n",
    "    model.add(sum(student.alpha[g.id]*(student.cpi - median_cpi) for student in students) >= -(g.male_count+g.female_count)*abs_cpi[-1])\n",
    "\n",
    "    \n",
    "model.maximize(sum(student.beta[i]*student.preferences[i] for student in students for i in range(num_projects))\n",
    "               - sum(cpi_diff_from_median for cpi_diff_from_median in abs_cpi))\n",
    "    \n",
    "print(students[0].alpha[0])\n"
   ]
  },
  {
   "cell_type": "code",
   "execution_count": null,
   "id": "cd76e045",
   "metadata": {},
   "outputs": [],
   "source": [
    "solver = cp_model.CpSolver()\n",
    "solver.solve(model)"
   ]
  },
  {
   "cell_type": "code",
   "execution_count": null,
   "id": "754ca897",
   "metadata": {},
   "outputs": [
    {
     "name": "stdout",
     "output_type": "stream",
     "text": [
      "project type: 0\n",
      "group id: 0\n",
      "project type: 0\n",
      "group id: 0\n",
      "project type: 0\n",
      "group id: 0\n",
      "project type: 0\n",
      "group id: 0\n",
      "project type: 0\n",
      "group id: 0\n",
      "project type: 0\n",
      "group id: 0\n"
     ]
    }
   ],
   "source": [
    "def find_active_boolvar(solver, bool_vars):\n",
    "    for i, var in enumerate(bool_vars):\n",
    "        if solver.Value(var) == 1:\n",
    "            return i  # or return var.Name() if you want the variable name\n",
    "        \n",
    "for student in students:\n",
    "    id = find_active_boolvar(solver, student.alpha)\n",
    "    print(groups[id])"
   ]
  }
 ],
 "metadata": {
  "kernelspec": {
   "display_name": "rishienv",
   "language": "python",
   "name": "rishienv"
  },
  "language_info": {
   "codemirror_mode": {
    "name": "ipython",
    "version": 3
   },
   "file_extension": ".py",
   "mimetype": "text/x-python",
   "name": "python",
   "nbconvert_exporter": "python",
   "pygments_lexer": "ipython3",
   "version": "3.12.3"
  }
 },
 "nbformat": 4,
 "nbformat_minor": 5
}
